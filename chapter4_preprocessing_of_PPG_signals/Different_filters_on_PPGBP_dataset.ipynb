{
 "cells": [
  {
   "cell_type": "code",
   "execution_count": null,
   "id": "19b93dc8",
   "metadata": {},
   "outputs": [],
   "source": [
    "import pandas as pd\n",
    "import numpy as np \n",
    "import matplotlib.pyplot as plt\n",
    "import scipy.signal as sps\n",
    "# %matplotlib notebook\n",
    "%matplotlib inline"
   ]
  },
  {
   "cell_type": "markdown",
   "id": "a9a7c7df",
   "metadata": {},
   "source": [
    "The sampling rate is 1kHz. \\\n",
    "reference: https://www.nature.com/articles/sdata201820"
   ]
  },
  {
   "cell_type": "code",
   "execution_count": null,
   "id": "03f3f85c",
   "metadata": {},
   "outputs": [],
   "source": [
    "df_2_1 = pd.read_csv('../data/FINGERTIP_PPG_FROM_HYPERTENSIVE_SUBJECTS/0_subject/2_1.txt', sep='\\t', header=None)"
   ]
  },
  {
   "cell_type": "code",
   "execution_count": null,
   "id": "9bd2213b",
   "metadata": {},
   "outputs": [],
   "source": [
    "df_2_1 = df_2_1.T"
   ]
  },
  {
   "cell_type": "code",
   "execution_count": null,
   "id": "68e5abb3",
   "metadata": {},
   "outputs": [],
   "source": [
    "df_2_1.head()"
   ]
  },
  {
   "cell_type": "code",
   "execution_count": null,
   "id": "53db6d7f",
   "metadata": {},
   "outputs": [],
   "source": [
    "plt.plot(df_2_1)\n",
    "plt.show()"
   ]
  },
  {
   "cell_type": "code",
   "execution_count": null,
   "id": "0232b04b",
   "metadata": {},
   "outputs": [],
   "source": [
    "raw_signal = df_2_1.values.T[0]"
   ]
  },
  {
   "cell_type": "code",
   "execution_count": null,
   "id": "eb8b766b",
   "metadata": {},
   "outputs": [],
   "source": []
  },
  {
   "cell_type": "code",
   "execution_count": null,
   "id": "0f90fd95",
   "metadata": {},
   "outputs": [],
   "source": [
    "raw_signal = raw_signal[:-1]"
   ]
  },
  {
   "cell_type": "code",
   "execution_count": null,
   "id": "8ae94f7d",
   "metadata": {},
   "outputs": [],
   "source": [
    "raw_signal"
   ]
  },
  {
   "cell_type": "code",
   "execution_count": null,
   "id": "a7d19d7a",
   "metadata": {},
   "outputs": [],
   "source": [
    "# using FFT to extract the wave frequency of raw signal \n",
    "from scipy import fftpack\n",
    "f_s=1000\n",
    "\n",
    "X = fftpack.fft(raw_signal)\n",
    "freqs = fftpack.fftfreq(len(raw_signal)) * f_s\n",
    "\n",
    "fig, ax = plt.subplots()\n",
    "\n",
    "ax.stem(freqs, np.abs(X))\n",
    "ax.set_title('frequency domain_PPGBP_0subject_2_1')\n",
    "ax.set_xlabel('Frequency in Hertz [Hz]')\n",
    "ax.set_ylabel('Frequency Domain (Spectrum) Magnitude')\n",
    "ax.set_xlim(-20, 20)\n",
    "ax.set_ylim(-5, 1e5)\n",
    "plt.tight_layout()\n",
    "plt.savefig('frequency domain_PPGBP_0subject_2_1.png', dpi=150)"
   ]
  },
  {
   "cell_type": "code",
   "execution_count": null,
   "id": "16c85973",
   "metadata": {},
   "outputs": [],
   "source": [
    "np.abs(X)"
   ]
  },
  {
   "cell_type": "markdown",
   "id": "3e9298e0",
   "metadata": {},
   "source": [
    "## convolve & guassian"
   ]
  },
  {
   "cell_type": "code",
   "execution_count": null,
   "id": "8c00c453",
   "metadata": {},
   "outputs": [],
   "source": [
    "win_size = int(50)"
   ]
  },
  {
   "cell_type": "code",
   "execution_count": null,
   "id": "e53355ef",
   "metadata": {},
   "outputs": [],
   "source": [
    "moving_ave_win = np.ones(win_size) / win_size"
   ]
  },
  {
   "cell_type": "code",
   "execution_count": null,
   "id": "86d2e424",
   "metadata": {},
   "outputs": [],
   "source": [
    "filter_signal = np.convolve(signal,1000, \"same\")"
   ]
  },
  {
   "cell_type": "code",
   "execution_count": null,
   "id": "a2a5740f",
   "metadata": {},
   "outputs": [],
   "source": [
    "plt.plot(filter_signal)\n",
    "plt.show()"
   ]
  },
  {
   "cell_type": "code",
   "execution_count": null,
   "id": "a7c3b828",
   "metadata": {},
   "outputs": [],
   "source": [
    "lowpass_gaussian_order=3\n",
    "lowpass_gaussian_std=0.8"
   ]
  },
  {
   "cell_type": "code",
   "execution_count": null,
   "id": "6220ec2a",
   "metadata": {},
   "outputs": [],
   "source": [
    "gauss_filt_win = sps.gaussian(lowpass_gaussian_order, lowpass_gaussian_std)\n",
    "gauss_filt_win = gauss_filt_win / np.sum(gauss_filt_win)\n",
    "pre_proc_signal = np.convolve(signal, gauss_filt_win, \"same\")"
   ]
  },
  {
   "cell_type": "code",
   "execution_count": null,
   "id": "08bcd861",
   "metadata": {},
   "outputs": [],
   "source": [
    "plt.plot(pre_proc_signal)\n",
    "plt.show()"
   ]
  },
  {
   "cell_type": "markdown",
   "id": "70f57c3f",
   "metadata": {},
   "source": [
    "## test butter filter"
   ]
  },
  {
   "cell_type": "code",
   "execution_count": null,
   "id": "343d16ac",
   "metadata": {},
   "outputs": [],
   "source": [
    "b, a = sps.butter(4, 100, 'low', analog=True)\n",
    "w, h = sps.freqs(b, a)\n",
    "plt.semilogx(w, 20 * np.log10(abs(h)))\n",
    "plt.title('Butterworth filter frequency response')\n",
    "plt.xlabel('Frequency [radians / second]')\n",
    "plt.ylabel('Amplitude [dB]')\n",
    "plt.margins(0, 0.1)\n",
    "plt.grid(which='both', axis='both')\n",
    "plt.axvline(100, color='green') # cutoff frequency\n",
    "plt.show()"
   ]
  },
  {
   "cell_type": "code",
   "execution_count": null,
   "id": "4656f6cd",
   "metadata": {},
   "outputs": [],
   "source": [
    "t = np.linspace(0, 1, 1000, False)  # 1 second\n",
    "sig = np.sin(2*np.pi*10*t) + np.sin(2*np.pi*20*t)\n",
    "fig, (ax1, ax2) = plt.subplots(2, 1, sharex=True)\n",
    "ax1.plot(t, sig)\n",
    "ax1.set_title('10 Hz and 20 Hz sinusoids')\n",
    "ax1.axis([0, 1, -2, 2])\n",
    "\n",
    "sos = sps.butter(10, 15, 'hp', fs=1000, output='sos')\n",
    "filtered = sps.sosfilt(sos, sig)\n",
    "ax2.plot(t, filtered)\n",
    "ax2.set_title('After 15 Hz high-pass filter')\n",
    "ax2.axis([0, 1, -2, 2])\n",
    "ax2.set_xlabel('Time [seconds]')\n",
    "plt.tight_layout()\n",
    "plt.show()"
   ]
  },
  {
   "cell_type": "code",
   "execution_count": null,
   "id": "18e9ee89",
   "metadata": {},
   "outputs": [],
   "source": [
    "t = np.linspace(0, 1, 1000, False)  # 1 second\n",
    "# f1 = 10Hz, f2 = 20Hz \n",
    "sig = np.sin(2*np.pi*10*t) + np.sin(2*np.pi*20*t)\n",
    "fig, (ax1, ax2) = plt.subplots(2, 1, sharex=True)\n",
    "ax1.plot(t, sig)\n",
    "ax1.set_title('10 Hz and 20 Hz sinusoids')\n",
    "ax1.axis([0, 1, -2, 2])\n",
    "\n",
    "# if no fs=1000, we need to figure the Wn = Fc/Fs * 2 = (15/1000) * 2 = 0.03\n",
    "sos = sps.butter(10, 0.015*2, 'hp', output='sos')\n",
    "filtered = sps.sosfilt(sos, sig)\n",
    "ax2.plot(t, filtered)\n",
    "ax2.set_title('After 15 Hz high-pass filter')\n",
    "ax2.axis([0, 1, -2, 2])\n",
    "ax2.set_xlabel('Time [seconds]')\n",
    "plt.tight_layout()\n",
    "plt.show()"
   ]
  },
  {
   "cell_type": "code",
   "execution_count": null,
   "id": "627cc64f",
   "metadata": {},
   "outputs": [],
   "source": [
    "# using FFT to extract the wave frequency of raw signal \n",
    "from scipy import fftpack\n",
    "f_s=1000\n",
    "\n",
    "X = fftpack.fft(sig)\n",
    "freqs = fftpack.fftfreq(len(sig)) * f_s\n",
    "\n",
    "fig, ax = plt.subplots()\n",
    "\n",
    "ax.stem(freqs, np.abs(X))\n",
    "ax.set_xlabel('Frequency in Hertz [Hz]')\n",
    "ax.set_ylabel('Frequency Domain (Spectrum) Magnitude')\n",
    "ax.set_xlim(-50, 50)\n",
    "ax.set_ylim(-5, 110)"
   ]
  },
  {
   "cell_type": "markdown",
   "id": "e14326a3",
   "metadata": {},
   "source": [
    "Here we can see that the f1 = 20 Hz and f2 = 10 Hz are extracted. "
   ]
  },
  {
   "cell_type": "code",
   "execution_count": null,
   "id": "60728517",
   "metadata": {},
   "outputs": [],
   "source": [
    "f0=0.1\n",
    "b, a = sps.butter(4, 0.1*2)\n",
    "sos = sps.butter(8, 0.1*2, output='sos')\n",
    "\n",
    "w, h = sps.freqz(b, a)\n",
    "# print(w)\n",
    "plt.plot(w/np.pi/2, 20*np.log10(np.abs(h)))\n",
    "plt.show()"
   ]
  },
  {
   "cell_type": "code",
   "execution_count": null,
   "id": "11e15742",
   "metadata": {},
   "outputs": [],
   "source": [
    "print(a, b)\n",
    "print(sos.shape)\n",
    "print(sos[0].shape)\n",
    "# print(sos[1].shape)"
   ]
  },
  {
   "cell_type": "code",
   "execution_count": null,
   "id": "ac929fdd",
   "metadata": {},
   "outputs": [],
   "source": [
    "sos = sps.butter(10, 15, 'hp', fs=1000, output='sos')\n",
    "filtered = sps.sosfilt(sos, raw_signal)\n",
    "\n",
    "fig, (ax1, ax2) = plt.subplots(2, 1, sharex=True)\n",
    "ax1.plot(raw_signal)\n",
    "ax1.set_title('raw signal with 1kHz sampling rate')\n",
    "\n",
    "ax2.plot(filtered)\n",
    "ax2.set_title('after 15 Hz high-pass filter')\n",
    "plt.show()"
   ]
  },
  {
   "cell_type": "code",
   "execution_count": null,
   "id": "3f8f78ad",
   "metadata": {},
   "outputs": [],
   "source": [
    "sos = sps.butter(10, 0.03, 'hp', output='sos')\n",
    "filtered = sps.sosfilt(sos, raw_signal)\n",
    "\n",
    "fig, (ax1, ax2) = plt.subplots(2, 1, sharex=True)\n",
    "ax1.plot(raw_signal)\n",
    "ax1.set_title('raw signal with 1kHz sampling rate')\n",
    "\n",
    "ax2.plot(filtered)\n",
    "ax2.set_title('after 15 Hz high-pass filter')\n",
    "plt.show()"
   ]
  },
  {
   "cell_type": "code",
   "execution_count": null,
   "id": "d52ac8b8",
   "metadata": {},
   "outputs": [],
   "source": [
    "fc = 10\n",
    "sos = sps.butter(6, fc, 'lp', fs=1000, output='sos')\n",
    "filtered = sps.sosfilt(sos, raw_signal)\n",
    "\n",
    "fig, (ax1, ax2) = plt.subplots(2, 1, sharex=True)\n",
    "ax1.plot(raw_signal)\n",
    "ax1.set_title('raw signal with 1kHz sampling rate')\n",
    "\n",
    "ax2.plot(raw_signal, label='raw signal')\n",
    "ax2.plot(filtered, label=f'butter(m=6, cutoff={fc}Hz)')\n",
    "ax2.set_title(f'after {fc} Hz Butter low-pass filter and Butter filter')\n",
    "ax2.legend(bbox_to_anchor=(1, 0.5))\n",
    "plt.show()"
   ]
  },
  {
   "cell_type": "code",
   "execution_count": null,
   "id": "4b4d62c2",
   "metadata": {},
   "outputs": [],
   "source": [
    "sos_order6 = sps.butter(6, 0.03, 'lp', output='sos')\n",
    "filtered_order6 = sps.sosfilt(sos_order6, raw_signal)\n",
    "\n",
    "sos_order4 = sps.butter(4, 0.03, 'lp', output='sos')\n",
    "filtered_order4 = sps.sosfilt(sos_order4, raw_signal)\n",
    "\n",
    "fig, (ax1, ax2) = plt.subplots(2, 1, sharex=True)\n",
    "ax1.plot(raw_signal)\n",
    "ax1.set_title('raw signal with 1kHz sampling rate')\n",
    "\n",
    "ax2.plot(raw_signal, label='raw signal')\n",
    "ax2.plot(filtered_order6, label='butter(m=6, cutoff=15Hz)')\n",
    "ax2.plot(filtered_order4, label='butter(m=4, cutoff=15Hz)')\n",
    "ax2.set_title('after 15 Hz low-pass filter')\n",
    "ax2.set_title('after 15 Hz Butter low-pass filter and Butter filter')\n",
    "ax2.legend(bbox_to_anchor=(1, 0.5))\n",
    "plt.show()"
   ]
  },
  {
   "cell_type": "code",
   "execution_count": null,
   "id": "e11c083e",
   "metadata": {},
   "outputs": [],
   "source": []
  },
  {
   "cell_type": "markdown",
   "id": "78cfc3a1",
   "metadata": {},
   "source": [
    "## test chebyshev1 filter "
   ]
  },
  {
   "cell_type": "code",
   "execution_count": null,
   "id": "1123b9f5",
   "metadata": {},
   "outputs": [],
   "source": [
    "b, a = sps.cheby1(4, 5, 100, 'low', analog=True)\n",
    "w, h = sps.freqs(b, a)\n",
    "plt.semilogx(w, 20 * np.log10(abs(h)))\n",
    "plt.title('Chebyshev Type I frequency response (rp=5)')\n",
    "plt.xlabel('Frequency [radians / second]')\n",
    "plt.ylabel('Amplitude [dB]')\n",
    "plt.margins(0, 0.1)\n",
    "plt.grid(which='both', axis='both')\n",
    "plt.axvline(100, color='green') # cutoff frequency\n",
    "plt.axhline(-5, color='green') # rp\n",
    "plt.show()"
   ]
  },
  {
   "cell_type": "code",
   "execution_count": null,
   "id": "befd3077",
   "metadata": {},
   "outputs": [],
   "source": [
    "sos = sps.cheby1(3, 1, 15, 'lp', fs=1000, output='sos')\n",
    "filtered_cheb1 = sps.sosfilt(sos, raw_signal)\n",
    "\n",
    "fig, (ax1, ax2) = plt.subplots(2, 1, sharex=True)\n",
    "ax1.plot(raw_signal)\n",
    "ax1.set_title('raw signal with 1kHz sampling rate')\n",
    "\n",
    "ax2.plot(raw_signal, label='raw signal')\n",
    "ax2.plot(filtered_cheb1, label='cheb1(m=3, Rp=1, cutoff=15Hz)')\n",
    "ax2.plot(filtered, label='butter(m=6, cutoff=15Hz)')\n",
    "ax2.set_title('after 15 Hz Butter low-pass filter and Chebyshev1 filter')\n",
    "ax2.legend(bbox_to_anchor=(1, 0.5))\n",
    "plt.show()"
   ]
  },
  {
   "cell_type": "code",
   "execution_count": null,
   "id": "c15da808",
   "metadata": {},
   "outputs": [],
   "source": []
  },
  {
   "cell_type": "markdown",
   "id": "b1522676",
   "metadata": {},
   "source": [
    "## test chebyshev2 filter"
   ]
  },
  {
   "cell_type": "code",
   "execution_count": null,
   "id": "fe3e8b47",
   "metadata": {},
   "outputs": [],
   "source": [
    "b, a = sps.cheby2(4, 40, 100, 'low', analog=True)\n",
    "w, h = sps.freqs(b, a)\n",
    "plt.semilogx(w, 20 * np.log10(abs(h)))\n",
    "plt.title('Chebyshev Type II frequency response (rs=40)')\n",
    "plt.xlabel('Frequency [radians / second]')\n",
    "plt.ylabel('Amplitude [dB]')\n",
    "plt.margins(0, 0.1)\n",
    "plt.grid(which='both', axis='both')\n",
    "plt.axvline(100, color='green') # cutoff frequency\n",
    "plt.axhline(-40, color='green') # rs\n",
    "plt.show()"
   ]
  },
  {
   "cell_type": "code",
   "execution_count": null,
   "id": "b0762d22",
   "metadata": {},
   "outputs": [],
   "source": [
    "b, a = sps.cheby2(4, 40, 100, 'high', analog=True)\n",
    "w, h = sps.freqs(b, a)\n",
    "plt.semilogx(w, 20 * np.log10(abs(h)))\n",
    "plt.title('Chebyshev Type II frequency response (rs=40)')\n",
    "plt.xlabel('Frequency [radians / second]')\n",
    "plt.ylabel('Amplitude [dB]')\n",
    "plt.margins(0, 0.1)\n",
    "plt.grid(which='both', axis='both')\n",
    "plt.axvline(100, color='green') # cutoff frequency\n",
    "plt.axhline(-40, color='green') # rs\n",
    "plt.show()"
   ]
  },
  {
   "cell_type": "code",
   "execution_count": null,
   "id": "98a11a64",
   "metadata": {},
   "outputs": [],
   "source": [
    "Wn = [500/750, 560/750]\n",
    "sos = sps.cheby2(10, 40, Wn, btype='bandpass', output='sos')\n",
    "\n",
    "b, a = sps.cheby2(10, 40, Wn, btype='bandpass', analog=True)\n",
    "w, h = sps.freqs(b, a)\n",
    "# plt.semilogx(w, 20 * np.log10(abs(h)))\n",
    "plt.plot(w*750, 20 * np.log10(abs(h)))\n",
    "plt.title('Chebyshev Type II frequency response (rs=40)')\n",
    "plt.xlabel('Frequency [radians / second]')\n",
    "plt.ylabel('Amplitude [dB]')\n",
    "plt.margins(0, 0.1)\n",
    "plt.grid(which='both', axis='both')\n",
    "plt.axvline(100, color='green') # cutoff frequency\n",
    "plt.axhline(-40, color='green') # rs\n",
    "plt.xlim([0, 750])\n",
    "plt.show()"
   ]
  },
  {
   "cell_type": "code",
   "execution_count": null,
   "id": "49123d5f",
   "metadata": {},
   "outputs": [],
   "source": [
    "w*750"
   ]
  },
  {
   "cell_type": "code",
   "execution_count": null,
   "id": "7b69b563",
   "metadata": {},
   "outputs": [],
   "source": [
    "sos"
   ]
  },
  {
   "cell_type": "code",
   "execution_count": null,
   "id": "6a109603",
   "metadata": {},
   "outputs": [],
   "source": [
    "sos = sps.cheby2(6, 18, 17, 'lp', fs=1000, output='sos')\n",
    "filtered_cheb2 = sps.sosfilt(sos, raw_signal)\n",
    "\n",
    "fig, (ax1, ax2) = plt.subplots(2, 1, sharex=True)\n",
    "ax1.plot(raw_signal)\n",
    "ax1.set_title('raw signal with 1kHz sampling rate')\n",
    "\n",
    "ax2.plot(raw_signal, label='raw signal')\n",
    "ax2.plot(filtered_cheb2, label='cheb2(m=6, Rs=18, cutoff=17Hz)')\n",
    "ax2.plot(filtered, label='butter(m=6, cutoff=15Hz)')\n",
    "ax2.set_title('after 17 Hz Butter low-pass filter and Chebyshev2 filter')\n",
    "ax2.legend(bbox_to_anchor=(1, 0.5))\n",
    "plt.show()"
   ]
  },
  {
   "cell_type": "code",
   "execution_count": null,
   "id": "35f29eb8",
   "metadata": {},
   "outputs": [],
   "source": [
    "%matplotlib notebook\n",
    "sos_order6 = sps.cheby2(6, 20, 0.03, 'lp', output='sos')\n",
    "filtered_cheb2_order6 = sps.sosfilt(sos_order6, raw_signal)\n",
    "\n",
    "sos_order4 = sps.cheby2(4, 20, 0.03, 'lp', output='sos')\n",
    "filtered_cheb2_order4 = sps.sosfilt(sos_order4, raw_signal)\n",
    "\n",
    "sos_butter_order4 = sps.butter(4, 0.03, 'lp', output='sos')\n",
    "filtered_butter_order4 = sps.sosfilt(sos_butter_order4, raw_signal)\n",
    "\n",
    "fig, (ax1, ax2) = plt.subplots(2, 1, sharex=True)\n",
    "ax1.plot(raw_signal)\n",
    "ax1.plot(filtered_butter_order4, label='butter(m=4, cutoff=15Hz)')\n",
    "ax1.set_title('raw signal with 1kHz sampling rate')\n",
    "\n",
    "ax2.plot(raw_signal, label='raw signal')\n",
    "ax2.plot(filtered_cheb2_order6, label='cheb2(m=6, Rs=20, cutoff=15Hz)')\n",
    "ax2.plot(filtered_cheb2_order4, label='cheb2(m=4, Rs=20, cutoff=15Hz)')\n",
    "ax2.set_title('after 15Hz Chebyshev2 low-pass filter: n=4 vs n=6')\n",
    "ax2.legend(bbox_to_anchor=(1, 0.5))\n",
    "plt.show()"
   ]
  },
  {
   "cell_type": "code",
   "execution_count": null,
   "id": "9cfa57c9",
   "metadata": {},
   "outputs": [],
   "source": [
    "sos_order4"
   ]
  },
  {
   "cell_type": "code",
   "execution_count": null,
   "id": "c7ed49eb",
   "metadata": {},
   "outputs": [],
   "source": [
    "sos = sps.cheby2(6, 18, 17, 'hp', fs=1000, output='sos')\n",
    "filtered_cheb2_highpass = sps.sosfilt(sos, raw_signal)\n",
    "\n",
    "fig, (ax1, ax2) = plt.subplots(2, 1, sharex=True)\n",
    "ax1.plot(raw_signal)\n",
    "ax1.set_title('raw signal with 1kHz sampling rate')\n",
    "\n",
    "ax2.plot(raw_signal, label='raw signal')\n",
    "ax2.plot(filtered_cheb2_highpass, label='cheb2(m=6, Rs=18, cutoff=17Hz)')\n",
    "ax2.set_title('after 17 Hz Chebyshev2 high-pass filter')\n",
    "plt.show()"
   ]
  },
  {
   "cell_type": "markdown",
   "id": "e55c7795",
   "metadata": {},
   "source": [
    "## test elliptic filter"
   ]
  },
  {
   "cell_type": "code",
   "execution_count": null,
   "id": "76bb893a",
   "metadata": {},
   "outputs": [],
   "source": [
    "b, a = sps.ellip(4, 5, 40, 100, 'low', analog=True)\n",
    "w, h = sps.freqs(b, a)\n",
    "plt.semilogx(w, 20 * np.log10(abs(h)))\n",
    "plt.title('Elliptic filter frequency response (rp=5, rs=40)')\n",
    "plt.xlabel('Frequency [radians / second]')\n",
    "plt.ylabel('Amplitude [dB]')\n",
    "plt.margins(0, 0.1)\n",
    "plt.grid(which='both', axis='both')\n",
    "plt.axvline(100, color='green') # cutoff frequency\n",
    "plt.axhline(-40, color='green') # rs\n",
    "plt.axhline(-5, color='green') # rp\n",
    "plt.show()"
   ]
  },
  {
   "cell_type": "code",
   "execution_count": null,
   "id": "ca3b7edd",
   "metadata": {},
   "outputs": [],
   "source": [
    "sos = sps.ellip(3, 1, 18, 17, 'lp', fs=1000, output='sos')\n",
    "filtered_ellip = sps.sosfilt(sos, raw_signal)\n",
    "\n",
    "fig, (ax1, ax2) = plt.subplots(2, 1, sharex=True)\n",
    "ax1.plot(raw_signal)\n",
    "ax1.set_title('raw signal with 1kHz sampling rate')\n",
    "\n",
    "ax2.plot(raw_signal, label='raw signal')\n",
    "ax2.plot(filtered_cheb2, label='cheb2(m=6, Rs=18, cutoff=17Hz)')\n",
    "ax2.plot(filtered, label='butter(m=6, cutoff=15Hz)')\n",
    "ax2.plot(filtered_ellip, label='elliptic(m=3, Rp=1, Rs=18, cutoff=17Hz)')\n",
    "ax2.set_title('after 17 Hz elliptic low-pass filter filter')\n",
    "ax2.legend(bbox_to_anchor=(1, 0.5))\n",
    "plt.show()"
   ]
  },
  {
   "cell_type": "markdown",
   "id": "b6981dcf",
   "metadata": {},
   "source": [
    "## Median filter"
   ]
  },
  {
   "cell_type": "code",
   "execution_count": null,
   "id": "80d09b98",
   "metadata": {},
   "outputs": [],
   "source": [
    "fs = 25\n",
    "window_size = 50\n",
    "nums = (1/window_size) * np.ones(window_size)\n",
    "\n",
    "w1, h1 = sps.freqz(nums, fs=fs)\n",
    "\n",
    "# plt.semilogx(w, 20 * np.log10(abs(h)))\n",
    "plt.semilogx(w1, abs(h1))\n",
    "plt.title('Mean filter with window size of 50 frequency response')\n",
    "plt.xlabel('Frequency [Hz]')\n",
    "# plt.ylabel('Amplitude [dB]')\n",
    "plt.ylabel('Gain')\n",
    "plt.margins(0, 0.1)\n",
    "plt.grid(which='both', axis='both')\n",
    "# plt.axvline(100, color='green') # cutoff frequency\n",
    "# plt.axhline(-40, color='green') # rs\n",
    "\n",
    "plt.savefig('mean filter with window size of 50.png', dpi=250)\n",
    "plt.show()"
   ]
  },
  {
   "cell_type": "code",
   "execution_count": null,
   "id": "088faed2",
   "metadata": {},
   "outputs": [],
   "source": [
    "len(w1)"
   ]
  },
  {
   "cell_type": "code",
   "execution_count": null,
   "id": "9734c9d8",
   "metadata": {},
   "outputs": [],
   "source": [
    "w1[abs(h1) < 0.5]"
   ]
  },
  {
   "cell_type": "markdown",
   "id": "191a288d",
   "metadata": {},
   "source": [
    "## Gaussian filter "
   ]
  },
  {
   "cell_type": "code",
   "execution_count": null,
   "id": "0fe15a11",
   "metadata": {},
   "outputs": [],
   "source": [
    "lowpass_gaussian_order=3\n",
    "lowpass_gaussian_std=0.8\n",
    "gauss_filt_win = sps.gaussian(lowpass_gaussian_order, lowpass_gaussian_std)\n",
    "gauss_filt_win = gauss_filt_win / np.sum(gauss_filt_win)"
   ]
  },
  {
   "cell_type": "code",
   "execution_count": null,
   "id": "37f98ed2",
   "metadata": {},
   "outputs": [],
   "source": [
    "w2, h2 = sps.freqz(gauss_filt_win, fs=25)\n",
    "\n",
    "plt.semilogx(w2, abs(h2))\n",
    "plt.title('Gaussian filter with order=3, std=0.8 frequency response')\n",
    "plt.xlabel('Frequency [Hz]')\n",
    "# plt.ylabel('Amplitude [dB]')\n",
    "plt.ylabel('Gain')\n",
    "plt.margins(0, 0.1)\n",
    "plt.grid(which='both', axis='both')\n",
    "# plt.axvline(100, color='green') # cutoff frequency\n",
    "# plt.axhline(-40, color='green') # rs\n",
    "\n",
    "plt.savefig('Gaussian filter with order=3 std=0.8.png', dpi=250)\n",
    "plt.show()"
   ]
  },
  {
   "cell_type": "code",
   "execution_count": null,
   "id": "fecb0c9d",
   "metadata": {},
   "outputs": [],
   "source": [
    "w2[abs(h2) < 0.5]"
   ]
  },
  {
   "cell_type": "code",
   "execution_count": null,
   "id": "36fb79a6",
   "metadata": {},
   "outputs": [],
   "source": [
    "plt.semilogx(w1, 1-abs(h1))\n",
    "plt.semilogx(w2, abs(h2))\n",
    "plt.title('Mean filter and Gaussian filter frequency response')\n",
    "plt.xlabel('Frequency [Hz]')\n",
    "# plt.ylabel('Amplitude [dB]')\n",
    "plt.ylabel('Gain')\n",
    "plt.margins(0, 0.1)\n",
    "plt.grid(which='both', axis='both')\n",
    "# plt.axvline(100, color='green') # cutoff frequency\n",
    "# plt.axhline(-40, color='green') # rs\n",
    "\n",
    "plt.savefig('Mean filter and Gaussian filter.png', dpi=250)\n",
    "plt.show()"
   ]
  },
  {
   "cell_type": "code",
   "execution_count": null,
   "id": "9b9b22f4",
   "metadata": {},
   "outputs": [],
   "source": [
    "w2"
   ]
  },
  {
   "cell_type": "markdown",
   "id": "626accc8",
   "metadata": {},
   "source": [
    "## FIR filter (Finite impulse response filter)"
   ]
  },
  {
   "cell_type": "markdown",
   "id": "8cfb1273",
   "metadata": {},
   "source": [
    "## wavelet denoising filter"
   ]
  },
  {
   "cell_type": "code",
   "execution_count": null,
   "id": "93d912d1",
   "metadata": {},
   "outputs": [],
   "source": []
  }
 ],
 "metadata": {
  "kernelspec": {
   "display_name": "HHAPP_features",
   "language": "python",
   "name": "hhapp_features"
  },
  "language_info": {
   "codemirror_mode": {
    "name": "ipython",
    "version": 3
   },
   "file_extension": ".py",
   "mimetype": "text/x-python",
   "name": "python",
   "nbconvert_exporter": "python",
   "pygments_lexer": "ipython3",
   "version": "3.6.9"
  }
 },
 "nbformat": 4,
 "nbformat_minor": 5
}
