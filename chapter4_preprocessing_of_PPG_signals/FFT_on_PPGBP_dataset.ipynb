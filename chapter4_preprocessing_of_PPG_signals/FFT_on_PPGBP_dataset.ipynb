{
 "cells": [
  {
   "cell_type": "code",
   "execution_count": null,
   "id": "323dde9b",
   "metadata": {},
   "outputs": [],
   "source": [
    "import pandas as pd\n",
    "import numpy as np \n",
    "import matplotlib.pyplot as plt\n",
    "import scipy.signal as sps\n",
    "\n",
    "\n",
    "# %matplotlib notebook\n",
    "%matplotlib inline"
   ]
  },
  {
   "cell_type": "code",
   "execution_count": null,
   "id": "1430ab52",
   "metadata": {},
   "outputs": [],
   "source": [
    "df_2_1 = pd.read_csv('../data/FINGERTIP_PPG_FROM_HYPERTENSIVE_SUBJECTS/0_subject/2_1.txt', sep='\\t', header=None)\n",
    "df_2_1 = df_2_1.T\n",
    "raw_signal = df_2_1.values.T[0]\n",
    "raw_signal = raw_signal[:-1]"
   ]
  },
  {
   "cell_type": "code",
   "execution_count": null,
   "id": "8e2c9828",
   "metadata": {},
   "outputs": [],
   "source": [
    "plt.plot(raw_signal)\n",
    "plt.show()"
   ]
  },
  {
   "cell_type": "code",
   "execution_count": null,
   "id": "a9df8778",
   "metadata": {},
   "outputs": [],
   "source": [
    "# using FFT in scipy.fftpack to extract the wave frequency of raw signal \n",
    "from scipy import fftpack\n",
    "f_s=1000\n",
    "\n",
    "X = fftpack.fft(raw_signal)\n",
    "freqs = fftpack.fftfreq(len(raw_signal)) * f_s\n",
    "\n",
    "fig, ax = plt.subplots()\n",
    "\n",
    "ax.stem(freqs, np.abs(X))\n",
    "ax.set_title('frequency domain_PPGBP_0subject_2_1')\n",
    "ax.set_xlabel('Frequency in Hertz [Hz]')\n",
    "ax.set_ylabel('Frequency Domain (Spectrum) Magnitude')\n",
    "ax.set_xlim(-20, 20)\n",
    "ax.set_ylim(-5, 1e5)\n",
    "plt.tight_layout()\n",
    "# plt.savefig('frequency domain_PPGBP_0subject_2_1.png', dpi=150)"
   ]
  },
  {
   "cell_type": "code",
   "execution_count": null,
   "id": "f9838632",
   "metadata": {},
   "outputs": [],
   "source": [
    "# using FFT in scipy.fft to extract the wave frequency of raw signal \n",
    "from scipy.fft import fft, fftfreq\n",
    "\n",
    "f_s=1000\n",
    "N = len(raw_signal)\n",
    "\n",
    "\n",
    "X = fft(raw_signal)\n",
    "freqs = fftfreq(N , 1 / f_s)\n",
    "\n",
    "fig, ax = plt.subplots()\n",
    "\n",
    "ax.stem(freqs, np.abs(X))\n",
    "ax.set_title('frequency domain_PPGBP_0subject_2_1')\n",
    "ax.set_xlabel('Frequency in Hertz [Hz]')\n",
    "ax.set_ylabel('Frequency Domain (Spectrum) Magnitude')\n",
    "ax.set_xlim(-20, 20)\n",
    "ax.set_ylim(-5, 1e5)\n",
    "plt.tight_layout()\n",
    "# plt.savefig('frequency domain_PPGBP_0subject_2_1.png', dpi=150)"
   ]
  },
  {
   "cell_type": "code",
   "execution_count": null,
   "id": "ef2dd336",
   "metadata": {},
   "outputs": [],
   "source": [
    "# using FFT in scipy.rfft to extract the wave frequency of raw signal \n",
    "from scipy.fft import rfft, rfftfreq\n",
    "\n",
    "f_s=1000\n",
    "N = len(raw_signal)\n",
    "\n",
    "\n",
    "X = rfft(raw_signal)\n",
    "freqs = rfftfreq(N , 1 / f_s)\n",
    "\n",
    "fig, ax = plt.subplots()\n",
    "\n",
    "ax.stem(freqs, np.abs(X))\n",
    "ax.set_title('frequency domain_PPGBP_0subject_2_1')\n",
    "ax.set_xlabel('Frequency in Hertz [Hz]')\n",
    "ax.set_ylabel('Frequency Domain (Spectrum) Magnitude')\n",
    "ax.set_xlim(0, 20)\n",
    "ax.set_ylim(-5, 1e5)\n",
    "plt.tight_layout()\n",
    "# plt.savefig('frequency domain_PPGBP_0subject_2_1.png', dpi=150)"
   ]
  },
  {
   "cell_type": "markdown",
   "id": "e056a249",
   "metadata": {},
   "source": [
    "### Butter filtering "
   ]
  },
  {
   "cell_type": "code",
   "execution_count": null,
   "id": "47bbe191",
   "metadata": {},
   "outputs": [],
   "source": [
    "fc = 11\n",
    "m = 6 \n",
    "sos = sps.butter(m, fc, 'lp', fs=1000, output='sos')\n",
    "butter_filtered = sps.sosfilt(sos, raw_signal)\n",
    "\n",
    "fig, (ax1, ax2) = plt.subplots(2, 1, sharex=True)\n",
    "ax1.plot(raw_signal)\n",
    "ax1.set_title('raw signal with 1kHz sampling rate')\n",
    "\n",
    "ax2.plot(raw_signal, label='raw signal')\n",
    "ax2.plot(butter_filtered, label=f'butter(m={m}, cutoff={fc}Hz)')\n",
    "ax2.set_title(f'after {fc} Hz Butter low-pass filter and Butter filter')\n",
    "ax2.legend(bbox_to_anchor=(1, 0.5))\n",
    "plt.show()"
   ]
  },
  {
   "cell_type": "code",
   "execution_count": null,
   "id": "66b73d4b",
   "metadata": {},
   "outputs": [],
   "source": [
    "two_pulses = butter_filtered[1100:]"
   ]
  },
  {
   "cell_type": "code",
   "execution_count": null,
   "id": "29a086d3",
   "metadata": {},
   "outputs": [],
   "source": [
    "plt.plot(two_pulses)\n",
    "plt.show()"
   ]
  },
  {
   "cell_type": "code",
   "execution_count": null,
   "id": "a2cca609",
   "metadata": {},
   "outputs": [],
   "source": [
    "# resample_butter_filtered = sps.resample(butter_filtered, 1000)"
   ]
  },
  {
   "cell_type": "code",
   "execution_count": null,
   "id": "20df42d9",
   "metadata": {},
   "outputs": [],
   "source": [
    "# plt.plot(resample_butter_filtered)\n",
    "# plt.show()"
   ]
  },
  {
   "cell_type": "code",
   "execution_count": null,
   "id": "52bcc843",
   "metadata": {},
   "outputs": [],
   "source": [
    "len(two_pulses)"
   ]
  },
  {
   "cell_type": "code",
   "execution_count": null,
   "id": "c6a58b05",
   "metadata": {},
   "outputs": [],
   "source": [
    "two_pulses_X = rfft(two_pulses)\n",
    "two_pulses_N = len(two_pulses)\n",
    "\n",
    "freqs = rfftfreq(two_pulses_N, 1 / f_s)\n",
    "\n",
    "fig, ax = plt.subplots()\n",
    "\n",
    "ax.stem(freqs, np.abs(two_pulses_X))\n",
    "ax.set_title('frequency domain of butter_filtered_PPGBP_0subject_2_1')\n",
    "ax.set_xlabel('Frequency in Hertz [Hz]')\n",
    "ax.set_ylabel('Frequency Domain (Spectrum) Magnitude')\n",
    "ax.set_xlim(0, 12)\n",
    "# ax.set_ylim(-5, 3e5)\n",
    "plt.tight_layout()"
   ]
  },
  {
   "cell_type": "code",
   "execution_count": null,
   "id": "1d5c07bc",
   "metadata": {},
   "outputs": [],
   "source": [
    "freqs[:20]"
   ]
  },
  {
   "cell_type": "code",
   "execution_count": null,
   "id": "aad80e00",
   "metadata": {},
   "outputs": [],
   "source": [
    "from scipy.fft import irfft \n",
    "\n",
    "new_signal = irfft(two_pulses_X)\n",
    "\n",
    "plt.plot(new_signal)\n",
    "plt.show()"
   ]
  },
  {
   "cell_type": "code",
   "execution_count": null,
   "id": "cdebcfd6",
   "metadata": {},
   "outputs": [],
   "source": [
    "one_pulses = butter_filtered[1100:1601]\n",
    "plt.plot(one_pulses)\n",
    "plt.show()"
   ]
  },
  {
   "cell_type": "code",
   "execution_count": null,
   "id": "7b437491",
   "metadata": {},
   "outputs": [],
   "source": [
    "one_pulses_resample = sps.resample(one_pulses, 1000)"
   ]
  },
  {
   "cell_type": "code",
   "execution_count": null,
   "id": "54e87163",
   "metadata": {},
   "outputs": [],
   "source": [
    "one_pulses_resample.shape"
   ]
  },
  {
   "cell_type": "code",
   "execution_count": null,
   "id": "d2976b8d",
   "metadata": {},
   "outputs": [],
   "source": [
    "one_pulses_X = rfft(one_pulses_resample)\n",
    "one_pulses_N = len(one_pulses_resample)\n",
    "\n",
    "freqs = rfftfreq(one_pulses_N, 1 / 1000)\n",
    "\n",
    "fig, ax = plt.subplots()\n",
    "\n",
    "ax.stem(freqs, np.abs(one_pulses_X))\n",
    "ax.set_title('frequency domain of butter_filtered_PPGBP_0subject_2_1')\n",
    "ax.set_xlabel('Frequency in Hertz [Hz]')\n",
    "ax.set_ylabel('Frequency Domain (Spectrum) Magnitude')\n",
    "ax.set_xlim(0, 12)\n",
    "# ax.set_ylim(-5, 3e5)\n",
    "plt.tight_layout()"
   ]
  },
  {
   "cell_type": "code",
   "execution_count": null,
   "id": "754303ab",
   "metadata": {},
   "outputs": [],
   "source": [
    "one_pulses_X.shape"
   ]
  },
  {
   "cell_type": "markdown",
   "id": "c6bcf723",
   "metadata": {},
   "source": [
    "### Transfer function implementation "
   ]
  },
  {
   "cell_type": "code",
   "execution_count": null,
   "id": "20f2a6c7",
   "metadata": {},
   "outputs": [],
   "source": [
    "# amplication: Dimensionless\n",
    "transfer_ammplication_dict = {\n",
    "    '0': 1,\n",
    "    '1': 1.2,\n",
    "    '2': 1.5,\n",
    "    '3': 2,\n",
    "    '4': 3, \n",
    "    '5': 2.2, \n",
    "    '6': 1.7,\n",
    "    '7': 1.8,\n",
    "    '8': 1.6,\n",
    "    '9': 1.5\n",
    "}\n",
    "\n",
    "\n",
    "# phase: radians\n",
    "transfer_phase_dict = {\n",
    "    '0': 0,\n",
    "    '1': -0.3,\n",
    "    '2': -0.8,\n",
    "    '3': -1.2,\n",
    "    '4': -2.5, \n",
    "    '5': -3.9, \n",
    "    '6': -4.6,\n",
    "    '7': -5.1,\n",
    "    '8': -6.1,\n",
    "    '9': -6.5\n",
    "}"
   ]
  },
  {
   "cell_type": "code",
   "execution_count": null,
   "id": "f83c7fc7",
   "metadata": {},
   "outputs": [],
   "source": [
    "len(freqs)"
   ]
  },
  {
   "cell_type": "code",
   "execution_count": null,
   "id": "6c1c2ec5",
   "metadata": {},
   "outputs": [],
   "source": [
    "one_pulses_X[:15]"
   ]
  },
  {
   "cell_type": "code",
   "execution_count": null,
   "id": "9eb557f5",
   "metadata": {},
   "outputs": [],
   "source": [
    "def Real2Polar(x):\n",
    "    return np.abs(x), np.angle(x)\n",
    "\n",
    "def Polar2Real(radii, angles):\n",
    "    return radii * np.exp(1j*angles)\n",
    "\n",
    "def transfer_function(radial_x):\n",
    "    \"\"\"\n",
    "    radial_x is the fft results at different frequency\n",
    "    \"\"\"\n",
    "    pass"
   ]
  },
  {
   "cell_type": "markdown",
   "id": "82ad927a",
   "metadata": {},
   "source": [
    "#### test example"
   ]
  },
  {
   "cell_type": "code",
   "execution_count": null,
   "id": "77591d7e",
   "metadata": {},
   "outputs": [],
   "source": [
    "a = -1 + 5j "
   ]
  },
  {
   "cell_type": "code",
   "execution_count": null,
   "id": "29d33215",
   "metadata": {},
   "outputs": [],
   "source": [
    "a_moduli, a_phase = Real2Polar(a)"
   ]
  },
  {
   "cell_type": "code",
   "execution_count": null,
   "id": "e781ad96",
   "metadata": {},
   "outputs": [],
   "source": [
    "a_moduli"
   ]
  },
  {
   "cell_type": "code",
   "execution_count": null,
   "id": "b45fc922",
   "metadata": {},
   "outputs": [],
   "source": [
    "a_phase"
   ]
  },
  {
   "cell_type": "code",
   "execution_count": null,
   "id": "6ef0e626",
   "metadata": {},
   "outputs": [],
   "source": [
    "Polar2Real(a_moduli, a_phase)"
   ]
  },
  {
   "cell_type": "code",
   "execution_count": null,
   "id": "231af46d",
   "metadata": {},
   "outputs": [],
   "source": [
    "moduli, phase = Real2Polar(one_pulses_X[1])"
   ]
  },
  {
   "cell_type": "code",
   "execution_count": null,
   "id": "42ec605f",
   "metadata": {},
   "outputs": [],
   "source": [
    "Polar2Real(moduli, phase)"
   ]
  },
  {
   "cell_type": "code",
   "execution_count": null,
   "id": "c428cf45",
   "metadata": {},
   "outputs": [],
   "source": [
    "amplification = transfer_ammplication_dict[str(1)]\n",
    "delta_phase = transfer_phase_dict[str(1)]\n",
    "\n",
    "moduli, phase = Real2Polar(one_pulses_X[1])\n",
    "amplified_moduli = moduli * amplification \n",
    "delay_phase = phase + delta_phase\n",
    "\n",
    "transfer_comp = Polar2Real(amplified_moduli , delay_phase)"
   ]
  },
  {
   "cell_type": "code",
   "execution_count": null,
   "id": "304b5f25",
   "metadata": {},
   "outputs": [],
   "source": [
    "transfer_comp"
   ]
  },
  {
   "cell_type": "markdown",
   "id": "d994cba5",
   "metadata": {},
   "source": [
    "#### try in top10 frequency components "
   ]
  },
  {
   "cell_type": "code",
   "execution_count": null,
   "id": "de92dfd8",
   "metadata": {},
   "outputs": [],
   "source": [
    "transfer_res = []\n",
    "for i, complex_comp in enumerate(one_pulses_X[:10]):\n",
    "    amplification = transfer_ammplication_dict[str(i)]\n",
    "    delta_phase = transfer_phase_dict[str(i)]\n",
    "    \n",
    "    moduli, phase = Real2Polar(complex_comp)\n",
    "    amplified_moduli = moduli * amplification \n",
    "    delay_phase = phase + delta_phase\n",
    "    \n",
    "    transfer_comp = Polar2Real(amplified_moduli, delay_phase)\n",
    "    transfer_res.append(transfer_comp)"
   ]
  },
  {
   "cell_type": "code",
   "execution_count": null,
   "id": "ecfa91e6",
   "metadata": {},
   "outputs": [],
   "source": [
    "transfer_res = np.array(transfer_res)"
   ]
  },
  {
   "cell_type": "code",
   "execution_count": null,
   "id": "443f3138",
   "metadata": {},
   "outputs": [],
   "source": [
    "transfer_res"
   ]
  },
  {
   "cell_type": "code",
   "execution_count": null,
   "id": "e436cc43",
   "metadata": {},
   "outputs": [],
   "source": [
    "one_pulses_X[:10]"
   ]
  },
  {
   "cell_type": "code",
   "execution_count": null,
   "id": "8956efec",
   "metadata": {},
   "outputs": [],
   "source": [
    "transfer_butter_X = np.copy(one_pulses_X)"
   ]
  },
  {
   "cell_type": "code",
   "execution_count": null,
   "id": "649fa062",
   "metadata": {},
   "outputs": [],
   "source": [
    "transfer_butter_X[:10] = transfer_res"
   ]
  },
  {
   "cell_type": "code",
   "execution_count": null,
   "id": "f71c3846",
   "metadata": {},
   "outputs": [],
   "source": [
    "len(transfer_butter_X)"
   ]
  },
  {
   "cell_type": "code",
   "execution_count": null,
   "id": "09df613a",
   "metadata": {},
   "outputs": [],
   "source": [
    "from scipy.fft import irfft \n",
    "\n",
    "new_signal = irfft(transfer_butter_X)\n",
    "\n",
    "fig, (ax1, ax2) = plt.subplots(2, 1, sharex=True)\n",
    "ax1.plot(one_pulses_resample, label='ppg')\n",
    "ax1.set_title('ppg signal resampled in 1kHz')\n",
    "\n",
    "ax2.plot(new_signal, label='transfer waveform')\n",
    "ax2.set_title('pulse waveform after transfer function')\n",
    "# ax2.legend()\n",
    "plt.show()"
   ]
  },
  {
   "cell_type": "code",
   "execution_count": null,
   "id": "ac461a40",
   "metadata": {},
   "outputs": [],
   "source": [
    "from scipy.fft import irfft \n",
    "\n",
    "new_signal = irfft(transfer_res)\n",
    "\n",
    "fig, (ax1, ax2) = plt.subplots(2, 1, sharex=True)\n",
    "\n",
    "ax2.plot(new_signal, label='transfer waveform')\n",
    "ax2.set_xlim([0, 20])\n",
    "ax2.set_title('pulse waveform after transfer function')\n",
    "# ax2.legend()\n",
    "plt.show()"
   ]
  },
  {
   "cell_type": "code",
   "execution_count": null,
   "id": "5c9b0a21",
   "metadata": {},
   "outputs": [],
   "source": [
    "len(new_signal)"
   ]
  },
  {
   "cell_type": "code",
   "execution_count": null,
   "id": "524884c0",
   "metadata": {},
   "outputs": [],
   "source": [
    "transfer_res = []\n",
    "for i, complex_comp in enumerate(one_pulses_X[:10]):\n",
    "    amplification = transfer_ammplication_dict[str(i)]\n",
    "    delta_phase = transfer_phase_dict[str(i)]\n",
    "    \n",
    "    moduli, phase = Real2Polar(complex_comp)\n",
    "    amplified_moduli = moduli * (1 / amplification )\n",
    "    delay_phase = phase - delta_phase\n",
    "    \n",
    "    transfer_comp = Polar2Real(amplified_moduli, delay_phase)\n",
    "    transfer_res.append(transfer_comp)\n",
    "    \n",
    "transfer_res = np.array(transfer_res)\n",
    "transfer_butter_X = np.copy(one_pulses_X)\n",
    "transfer_butter_X[:10] = transfer_res"
   ]
  },
  {
   "cell_type": "code",
   "execution_count": null,
   "id": "375cedf4",
   "metadata": {},
   "outputs": [],
   "source": [
    "from scipy.fft import irfft \n",
    "\n",
    "new_signal = irfft(transfer_butter_X)\n",
    "\n",
    "fig, (ax1, ax2) = plt.subplots(2, 1, sharex=True)\n",
    "ax1.plot(one_pulses_resample, label='ppg')\n",
    "ax1.set_title('ppg signal resampled in 1kHz')\n",
    "\n",
    "ax2.plot(new_signal, label='transfer waveform')\n",
    "ax2.set_title('pulse waveform after transfer function')\n",
    "# ax2.legend()\n",
    "plt.show()"
   ]
  },
  {
   "cell_type": "code",
   "execution_count": null,
   "id": "474825fd",
   "metadata": {},
   "outputs": [],
   "source": [
    "from scipy.fft import irfft \n",
    "\n",
    "new_signal = irfft(transfer_res)\n",
    "\n",
    "fig, (ax1, ax2) = plt.subplots(2, 1, sharex=True)\n",
    "\n",
    "ax2.plot(new_signal, label='transfer waveform')\n",
    "ax2.set_xlim([0, 20])\n",
    "ax2.set_title('pulse waveform after transfer function')\n",
    "# ax2.legend()\n",
    "plt.show()"
   ]
  },
  {
   "cell_type": "code",
   "execution_count": null,
   "id": "88f763b2",
   "metadata": {},
   "outputs": [],
   "source": []
  }
 ],
 "metadata": {
  "kernelspec": {
   "display_name": "HHAPP_features",
   "language": "python",
   "name": "hhapp_features"
  },
  "language_info": {
   "codemirror_mode": {
    "name": "ipython",
    "version": 3
   },
   "file_extension": ".py",
   "mimetype": "text/x-python",
   "name": "python",
   "nbconvert_exporter": "python",
   "pygments_lexer": "ipython3",
   "version": "3.6.9"
  }
 },
 "nbformat": 4,
 "nbformat_minor": 5
}
