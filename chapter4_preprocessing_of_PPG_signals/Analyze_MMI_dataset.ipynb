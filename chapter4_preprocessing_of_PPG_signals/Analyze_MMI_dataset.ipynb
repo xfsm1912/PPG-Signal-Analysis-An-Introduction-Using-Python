{
 "cells": [
  {
   "cell_type": "code",
   "execution_count": null,
   "id": "4972cb0d",
   "metadata": {},
   "outputs": [],
   "source": [
    "import os.path\n",
    "import logging\n",
    "import pytest\n",
    "import math\n",
    "import matplotlib.pyplot as plt\n",
    "from hq.hdf.io import lifeq_hdf_store\n",
    "from hq.hdf.names.on_device import MetricPpgGreen\n",
    "\n",
    "import pandas as pd\n",
    "import numpy as np\n",
    "from scipy import fftpack\n",
    "import ipympl\n",
    "\n",
    "from lq.features.feature_extraction_tools import get_ppg_points, get_apg_points\n",
    "\n",
    "import lq.features.five_features_extraction as fivefeat\n",
    "from lq.features.ppg_signal_process import (\n",
    "    find_start_stop_of_signal,\n",
    "    subtract_fitted_line_from_pulse,\n",
    "    filter_outlier_rr_and_pulses_from_signal,\n",
    ")"
   ]
  },
  {
   "cell_type": "code",
   "execution_count": null,
   "id": "82b1c6fc",
   "metadata": {},
   "outputs": [],
   "source": [
    "user_id = 'ef36c4fb-18ba-477c-b1c1-68adff06b670'"
   ]
  },
  {
   "cell_type": "code",
   "execution_count": null,
   "id": "448b392e",
   "metadata": {},
   "outputs": [],
   "source": [
    "logger = logging.getLogger(__name__)\n",
    "BASE_DIR = os.path.dirname(os.path.abspath(''))\n",
    "test_file_path = os.path.join(BASE_DIR, \"data\", \"MMI\", f\"{user_id}.h5\")"
   ]
  },
  {
   "cell_type": "code",
   "execution_count": null,
   "id": "979469ec",
   "metadata": {},
   "outputs": [],
   "source": [
    "EXPECTED_TIME_DIFF = 40000000\n",
    "ALLOWED_DELTA = 1000000\n",
    "MINIMUM_ALLOWED_DURATION_SEC = 25\n",
    "\n",
    "MINIMUM_PWF_CONF = 20"
   ]
  },
  {
   "cell_type": "code",
   "execution_count": null,
   "id": "1ca205fa",
   "metadata": {},
   "outputs": [],
   "source": [
    "def split_dataframe_on_timestamps(df, max_diff_secs=10, max_len_ppg_event_secs=600):\n",
    "    # Create column to partition ppg signal segments based on timestamps\n",
    "    t_diffs = np.append([40000000], np.diff(df.index))\n",
    "    df = df.assign(counter=np.cumsum(t_diffs > max_diff_secs * 40000000))\n",
    "\n",
    "    dfs = []\n",
    "    for (k, d) in df.groupby(\"counter\"):\n",
    "        if not d.empty:\n",
    "            if len(d) <= max_len_ppg_event_secs * 25:\n",
    "                dfs.append(d)\n",
    "            else:\n",
    "                logger.warn(\"Max duration of PPG event exceeded.\")\n",
    "\n",
    "    # Log warning if no data available\n",
    "    if len(dfs) == 0:\n",
    "        logger.warning(\"No appropriate PPG data available for PWF calculations.\")\n",
    "\n",
    "    return dfs"
   ]
  },
  {
   "cell_type": "code",
   "execution_count": null,
   "id": "b65b149f",
   "metadata": {},
   "outputs": [],
   "source": [
    "h5repo = lifeq_hdf_store.LifeQHDFStore(test_file_path)\n",
    "\n",
    "table_name_ppg_green = h5repo.find_table_name_by_type(MetricPpgGreen.table_type)\n",
    "data_ppg_green = h5repo.get_table_by_name(table_name_ppg_green)"
   ]
  },
  {
   "cell_type": "markdown",
   "id": "71173b4b",
   "metadata": {},
   "source": [
    "## 25Hz pulses before any preprocess"
   ]
  },
  {
   "cell_type": "code",
   "execution_count": null,
   "id": "00c96085",
   "metadata": {},
   "outputs": [],
   "source": [
    "data_ppg_green.columns = [\"ppg_green\"]\n",
    "data_ppg_green = data_ppg_green[~data_ppg_green.index.duplicated(keep=\"first\")]\n",
    "data_ppg_green.sort_index(inplace=True)\n",
    "\n",
    "data_pwf_valid = np.isfinite(data_ppg_green[\"ppg_green\"].values)\n",
    "data_ppg_green = data_ppg_green.fillna(method=\"pad\").bfill()\n",
    "data_ppg_green = data_ppg_green[data_pwf_valid]\n",
    "\n",
    "pwf_dfs = split_dataframe_on_timestamps(data_ppg_green)"
   ]
  },
  {
   "cell_type": "code",
   "execution_count": null,
   "id": "ebc52057",
   "metadata": {},
   "outputs": [],
   "source": [
    "len(pwf_dfs)"
   ]
  },
  {
   "cell_type": "code",
   "execution_count": null,
   "id": "de6a3064",
   "metadata": {},
   "outputs": [],
   "source": [
    "pwf_series = pwf_dfs[100][\"ppg_green\"]\n",
    "\n",
    "signal = pwf_series.values.flatten()\n",
    "signal_duration = (pwf_series.index[-1] - pwf_series.index[0]) / 1000000000"
   ]
  },
  {
   "cell_type": "code",
   "execution_count": null,
   "id": "00eb5965",
   "metadata": {},
   "outputs": [],
   "source": [
    "start_time = pwf_series.index[0]"
   ]
  },
  {
   "cell_type": "code",
   "execution_count": null,
   "id": "c0e15f83",
   "metadata": {},
   "outputs": [],
   "source": [
    "start_time"
   ]
  },
  {
   "cell_type": "code",
   "execution_count": null,
   "id": "eb836ba3",
   "metadata": {},
   "outputs": [],
   "source": [
    "plt.plot(signal)\n",
    "plt.show()"
   ]
  },
  {
   "cell_type": "code",
   "execution_count": null,
   "id": "328fef3e",
   "metadata": {},
   "outputs": [],
   "source": [
    "f_s=25\n",
    "\n",
    "X = fftpack.fft(signal)\n",
    "freqs = fftpack.fftfreq(len(signal)) * f_s\n",
    "\n",
    "fig, ax = plt.subplots()\n",
    "\n",
    "ax.stem(freqs, np.abs(X))\n",
    "ax.set_title(f'frequency domain_{start_time}\\n_{user_id}')\n",
    "ax.set_xlabel('Frequency in Hertz [Hz]')\n",
    "ax.set_ylabel('Frequency Domain (Spectrum) Magnitude')\n",
    "ax.set_xlim(-5, 5)\n",
    "ax.set_ylim(-5, 5e5)\n",
    "plt.tight_layout()\n",
    "plt.savefig(f'frequency domain_fs{f_s}_{start_time}_{user_id}.png', dpi=150)"
   ]
  },
  {
   "cell_type": "markdown",
   "id": "6e3afb47",
   "metadata": {},
   "source": [
    "### Butter filter"
   ]
  },
  {
   "cell_type": "code",
   "execution_count": null,
   "id": "ce379059",
   "metadata": {},
   "outputs": [],
   "source": [
    "import scipy.signal as sps"
   ]
  },
  {
   "cell_type": "code",
   "execution_count": null,
   "id": "6a1128ba",
   "metadata": {},
   "outputs": [],
   "source": [
    "%matplotlib notebook\n",
    "sos = sps.butter(4, 0.5, 'hp', fs=25, output='sos')\n",
    "filtered = sps.sosfilt(sos, signal)\n",
    "\n",
    "fig, (ax1, ax2) = plt.subplots(2, 1, sharex=True)\n",
    "ax1.plot(signal)\n",
    "ax1.set_title('MMI signal with 25Hz sampling rate')\n",
    "\n",
    "ax2.plot(signal)\n",
    "ax2.plot(filtered)\n",
    "ax2.set_title('after 7 Hz butter low-pass filter')\n",
    "# ax2.axis([-1, 751, np.min(signal), np.max(signal)])\n",
    "plt.show()"
   ]
  },
  {
   "cell_type": "markdown",
   "id": "234762cc",
   "metadata": {},
   "source": [
    "### cheybyshev2 filter "
   ]
  },
  {
   "cell_type": "code",
   "execution_count": null,
   "id": "dcfa07a3",
   "metadata": {},
   "outputs": [],
   "source": [
    "%matplotlib inline\n",
    "# sos_cheby2_order4 = sps.cheby2(4, 20, 0.28, 'lp', output='sos')\n",
    "sos_cheby2_order4 = sps.cheby2(4, 20, 0.325, 'lp', output='sos')\n",
    "filtered_cheb2_order4 = sps.sosfilt(sos_cheby2_order4, signal)\n",
    "\n",
    "fig, (ax1, ax2) = plt.subplots(2, 1, sharex=True)\n",
    "ax1.plot(-signal)\n",
    "ax1.set_title('MMI signal with 25Hz sampling rate')\n",
    "\n",
    "# ax2.plot(-signal, label='raw signal')\n",
    "ax2.plot(-filtered_cheb2_order4, label='cheb2(m=4, Rs=20, cutoff=15Hz)', color='red')\n",
    "# ax2.plot(filtered, label='butter(m=6, cutoff=15Hz)')\n",
    "ax2.set_title('15 Chebyshev2 lowpass filter with Rs=20, m=4')\n",
    "ax2.axis([200, 300, np.min(-signal), np.max(-signal)])\n",
    "# ax2.legend(bbox_to_anchor=(1, 0.5))\n",
    "plt.show()"
   ]
  },
  {
   "cell_type": "code",
   "execution_count": null,
   "id": "bcee93c0",
   "metadata": {},
   "outputs": [],
   "source": [
    "# Here we use the same order and Rs with Dr. Elgendi's paper \n",
    "# n =4, Rs = 20, \n",
    "# cutoff frequency is not in paper, but we assume is 15 Hz. \n",
    "# Wn = Fc/Fs = 15 / 1000 * 2 = 0.03\n",
    "# here, Fs = 25 Hz, 7/25 * 2 = 0.56, \n",
    "\n",
    "\n",
    "# sos_cheby2_order4 = sps.cheby2(4, 18, 7, 'lp', fs=25, output='sos')\n",
    "# wn = [i*0.07 for i in range(1, 10)]\n",
    "# wn = [i*0.025 for i in range(1, 30)]\n",
    "wn = [0.3, 0.32]\n",
    "\n",
    "for i in range(len(wn)):\n",
    "    sos_cheby2_order4 = sps.cheby2(4, 20, wn[i], 'lp', output='sos')\n",
    "    filtered_cheb2_order4 = sps.sosfilt(sos_cheby2_order4, signal)\n",
    "    fig, ax = plt.subplots(nrows=1, ncols=1)\n",
    "    ax.plot(-signal, label='raw signal')\n",
    "    ax.plot(-filtered_cheb2_order4, label='cheb2')\n",
    "    # ax2.plot(filtered, label='butter(m=6, cutoff=15Hz)')\n",
    "    ax.set_title(f'Chebyshev2 lowpass filter with m=4, Rs=20, wn={wn[i]}')\n",
    "    ax.axis([200, 300, np.min(-signal), np.max(-signal)])\n",
    "    ax.legend(bbox_to_anchor=(1, 0.5))\n",
    "#     plt.savefig(f'Cheby2_lowpass_m=4_Rs=20_wn={wn[i]}_{start_time}_5b75df30-f453-4bd8-bdf4-df6332f21685.png', dpi=150)"
   ]
  },
  {
   "cell_type": "markdown",
   "id": "40bc8e6a",
   "metadata": {},
   "source": [
    "seem like the 30 second segment in 25Hz is not improved significantly "
   ]
  },
  {
   "cell_type": "code",
   "execution_count": null,
   "id": "5311c1de",
   "metadata": {},
   "outputs": [],
   "source": [
    "len(filtered_cheb2_order4)"
   ]
  },
  {
   "cell_type": "markdown",
   "id": "c95a94d4",
   "metadata": {},
   "source": [
    "## 250Hz pulse after subtraction "
   ]
  },
  {
   "cell_type": "code",
   "execution_count": null,
   "id": "fe7aef9c",
   "metadata": {},
   "outputs": [],
   "source": [
    "from lq.features.ppg_signal_process import (\n",
    "    detrend_and_denoise_signal_with_filters,\n",
    "    peak_detection_for_pwf,\n",
    "    process_pulse,\n",
    "    subtract_fitted_line_from_pulse,\n",
    "    find_start_stop_of_signal\n",
    ")"
   ]
  },
  {
   "cell_type": "code",
   "execution_count": null,
   "id": "bfa70e04",
   "metadata": {},
   "outputs": [],
   "source": [
    "peak_indices=[],\n",
    "resample_size_on_full_signal_factor=10\n",
    "buffer_size_in_samples_25hz=3\n",
    "sampling_frequency = 25"
   ]
  },
  {
   "cell_type": "markdown",
   "id": "0e599dd8",
   "metadata": {},
   "source": [
    "raw signal resampled to 250Hz"
   ]
  },
  {
   "cell_type": "code",
   "execution_count": null,
   "id": "02f23fd1",
   "metadata": {},
   "outputs": [],
   "source": [
    "detrend_signal = detrend_and_denoise_signal_with_filters(signal, sampling_frequency)\n",
    "\n",
    "peak_indices = peak_detection_for_pwf(detrend_signal, sampling_frequency)"
   ]
  },
  {
   "cell_type": "code",
   "execution_count": null,
   "id": "afab440b",
   "metadata": {},
   "outputs": [],
   "source": [
    "resample_signal = sps.resample(detrend_signal, len(detrend_signal) * resample_size_on_full_signal_factor)\n",
    "peak_indices = peak_indices * resample_size_on_full_signal_factor"
   ]
  },
  {
   "cell_type": "code",
   "execution_count": null,
   "id": "795a1c9b",
   "metadata": {},
   "outputs": [],
   "source": [
    "pulse_start = peak_indices[:-1]\n",
    "pulse_stop = peak_indices[1:]"
   ]
  },
  {
   "cell_type": "code",
   "execution_count": null,
   "id": "452ae00f",
   "metadata": {},
   "outputs": [],
   "source": [
    "pulse_start = (\n",
    "    pulse_start - buffer_size_in_samples_25hz * resample_size_on_full_signal_factor\n",
    ")\n",
    "pulse_start[0] = np.max((pulse_start[0], 0))\n",
    "pulse_stop = pulse_stop + buffer_size_in_samples_25hz * resample_size_on_full_signal_factor\n",
    "pulse_stop[-1] = np.min((pulse_stop[-1], len(signal)))"
   ]
  },
  {
   "cell_type": "code",
   "execution_count": null,
   "id": "698df61b",
   "metadata": {},
   "outputs": [],
   "source": [
    "pulse_start"
   ]
  },
  {
   "cell_type": "code",
   "execution_count": null,
   "id": "30476092",
   "metadata": {},
   "outputs": [],
   "source": [
    "pulse_stop"
   ]
  },
  {
   "cell_type": "code",
   "execution_count": null,
   "id": "4ec5c04e",
   "metadata": {},
   "outputs": [],
   "source": [
    "all_pulses = [\n",
    "    -resample_signal[tmp_start:tmp_stop] for tmp_start, tmp_stop in zip(pulse_start, pulse_stop)\n",
    "]"
   ]
  },
  {
   "cell_type": "markdown",
   "id": "7e1136d5",
   "metadata": {},
   "source": [
    "filtered signal resample to 250Hz"
   ]
  },
  {
   "cell_type": "code",
   "execution_count": null,
   "id": "826ea502",
   "metadata": {},
   "outputs": [],
   "source": [
    "detrend_filtered_signal = detrend_and_denoise_signal_with_filters(filtered_cheb2_order4, sampling_frequency)\n",
    "\n",
    "peak_indices = peak_detection_for_pwf(detrend_filtered_signal, sampling_frequency)\n",
    "\n",
    "resample_filterd_signal = sps.resample(detrend_filtered_signal, len(detrend_filtered_signal) * resample_size_on_full_signal_factor)\n",
    "peak_indices = peak_indices * resample_size_on_full_signal_factor\n",
    "\n",
    "pulse_start = peak_indices[:-1]\n",
    "pulse_stop = peak_indices[1:]\n",
    "\n",
    "pulse_start = (\n",
    "    pulse_start - buffer_size_in_samples_25hz * resample_size_on_full_signal_factor\n",
    ")\n",
    "pulse_start[0] = np.max((pulse_start[0], 0))\n",
    "pulse_stop = pulse_stop + buffer_size_in_samples_25hz * resample_size_on_full_signal_factor\n",
    "pulse_stop[-1] = np.min((pulse_stop[-1], len(signal)))\n",
    "\n",
    "all_filtered_pulses = [\n",
    "    -resample_filterd_signal[tmp_start:tmp_stop] for tmp_start, tmp_stop in zip(pulse_start, pulse_stop)\n",
    "]"
   ]
  },
  {
   "cell_type": "code",
   "execution_count": null,
   "id": "7a348002",
   "metadata": {},
   "outputs": [],
   "source": [
    "pulse_start"
   ]
  },
  {
   "cell_type": "code",
   "execution_count": null,
   "id": "45e5c241",
   "metadata": {},
   "outputs": [],
   "source": [
    "pulse_stop"
   ]
  },
  {
   "cell_type": "code",
   "execution_count": null,
   "id": "a3b064ca",
   "metadata": {},
   "outputs": [],
   "source": [
    "%matplotlib notebook\n",
    "plt.plot(-detrend_signal)\n",
    "plt.plot(-filtered_cheb2_order4)\n",
    "plt.show()"
   ]
  },
  {
   "cell_type": "code",
   "execution_count": null,
   "id": "6fec65a5",
   "metadata": {},
   "outputs": [],
   "source": [
    "for i in range(len(all_pulses)):\n",
    "    pulse = all_pulses[i]\n",
    "    filtered_pulse = all_filtered_pulses[i]\n",
    "    \n",
    "    start_index, stop_index = find_start_stop_of_signal(pulse)\n",
    "    pulse = subtract_fitted_line_from_pulse(pulse, start_index, stop_index)\n",
    "    pulse = pulse[start_index : stop_index + 1]\n",
    "    \n",
    "    start_index, stop_index = find_start_stop_of_signal(filtered_pulse)\n",
    "    filtered_pulse = subtract_fitted_line_from_pulse(filtered_pulse, start_index, stop_index)\n",
    "    filtered_pulse = filtered_pulse[start_index : stop_index + 1]\n",
    "    \n",
    "    \n",
    "    fig, ax = plt.subplots(nrows=1, ncols=1)\n",
    "    ax.plot(pulse)\n",
    "    ax.plot(filtered_pulse)\n",
    "    ax.set_title(f'{i}th pulse')\n",
    "    plt.show()"
   ]
  },
  {
   "cell_type": "code",
   "execution_count": null,
   "id": "d4538b26",
   "metadata": {},
   "outputs": [],
   "source": []
  },
  {
   "cell_type": "code",
   "execution_count": null,
   "id": "2b2898b1",
   "metadata": {},
   "outputs": [],
   "source": []
  },
  {
   "cell_type": "code",
   "execution_count": null,
   "id": "4212f895",
   "metadata": {},
   "outputs": [],
   "source": []
  },
  {
   "cell_type": "markdown",
   "id": "dc099f56",
   "metadata": {},
   "source": [
    "### cheybyshev2 filter"
   ]
  },
  {
   "cell_type": "code",
   "execution_count": null,
   "id": "9ca35062",
   "metadata": {},
   "outputs": [],
   "source": [
    "order = 4 \n",
    "Rs = 20\n",
    "Fc = 7\n",
    "\n",
    "# wn = 7 / 250 * 2 = 0.056\n",
    "sos = sps.cheby2(order, Rs, Fc, 'lp', fs=250, output='sos')\n",
    "filtered_cheb2 = sps.sosfilt(sos, pulse)\n",
    "\n",
    "fig, (ax1, ax2) = plt.subplots(2, 1, sharex=True)\n",
    "ax1.plot(pulse)\n",
    "ax1.set_title('MMI signal with 250Hz sampling rate')\n",
    "\n",
    "ax2.plot(pulse, label='raw signal')\n",
    "ax2.plot(filtered_cheb2, label=f'cheb2(m={order}, Rs={Rs}, cutoff={Fc}Hz)')\n",
    "# ax2.plot(filtered, label='butter(m=6, cutoff=15Hz)')\n",
    "ax2.set_title(f'cheb2(m={order}, Rs={Rs}, cutoff={Fc}Hz)')\n",
    "ax2.axis([-1, 251, np.min(pulse), np.max(pulse)])\n",
    "ax2.legend(bbox_to_anchor=(1, 0.5))\n",
    "plt.show()"
   ]
  },
  {
   "cell_type": "code",
   "execution_count": null,
   "id": "a4900c7d",
   "metadata": {},
   "outputs": [],
   "source": [
    "# Here we use the same order and Rs with Dr. Elgendi's paper \n",
    "# N = 4, Rs = 20, \n",
    "# cutoff frequency is not in paper, but we assume is 15 Hz. \n",
    "# Wn = Fc/Fs = 15 / 1000 * 2 = 0.03\n",
    "# here, Fs = 25 Hz, 7/25 * 2 = 0.56, \n",
    "%matplotlib inline\n",
    "\n",
    "# sos_cheby2_order4 = sps.cheby2(4, 18, 7, 'lp', fs=25, output='sos')\n",
    "# wn = [i*0.07 for i in range(1, 10)]\n",
    "wn = [i*0.0025 for i in range(1, 30)]\n",
    "\n",
    "for i in range(len(wn)):\n",
    "    sos_cheby2_order4 = sps.cheby2(4, 20, wn[i], 'lp', output='sos')\n",
    "    filtered_cheb2_order4 = sps.sosfilt(sos_cheby2_order4, pulse)\n",
    "    fig, ax = plt.subplots(nrows=1, ncols=1)\n",
    "    ax.plot(pulse, label='raw signal')\n",
    "    ax.plot(filtered_cheb2_order4, label='cheb2')\n",
    "    # ax2.plot(filtered, label='butter(m=6, cutoff=15Hz)')\n",
    "    ax.set_title(f'Chebyshev2 lowpass filter with m=4, Rs=20, wn={wn[i]}')\n",
    "    ax.axis([-1, 251, np.min(pulse), np.max(pulse)])\n",
    "    ax.legend(bbox_to_anchor=(1, 0.5))\n",
    "    plt.show()"
   ]
  },
  {
   "cell_type": "code",
   "execution_count": null,
   "id": "2fb25dbf",
   "metadata": {},
   "outputs": [],
   "source": []
  },
  {
   "cell_type": "code",
   "execution_count": null,
   "id": "11bef081",
   "metadata": {},
   "outputs": [],
   "source": []
  }
 ],
 "metadata": {
  "kernelspec": {
   "display_name": "HHAPP_features",
   "language": "python",
   "name": "hhapp_features"
  },
  "language_info": {
   "codemirror_mode": {
    "name": "ipython",
    "version": 3
   },
   "file_extension": ".py",
   "mimetype": "text/x-python",
   "name": "python",
   "nbconvert_exporter": "python",
   "pygments_lexer": "ipython3",
   "version": "3.6.9"
  }
 },
 "nbformat": 4,
 "nbformat_minor": 5
}
