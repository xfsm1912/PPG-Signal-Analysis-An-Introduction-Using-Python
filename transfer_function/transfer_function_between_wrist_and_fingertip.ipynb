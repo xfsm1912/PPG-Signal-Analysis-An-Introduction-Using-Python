{
 "cells": [
  {
   "cell_type": "code",
   "execution_count": null,
   "id": "f1a3e521",
   "metadata": {},
   "outputs": [],
   "source": [
    "import os\n",
    "import logging \n",
    "import matplotlib.pyplot as plt \n",
    "import pandas as pd \n",
    "import numpy as np \n",
    "import math \n",
    "\n",
    "from scipy.signal import argrelextrema, argrelmax, argrelmin\n",
    "from scipy.fft import rfft, rfftfreq, irfft\n",
    "\n",
    "from matplotlib.pyplot import MultipleLocator"
   ]
  },
  {
   "cell_type": "code",
   "execution_count": null,
   "id": "0cda650e",
   "metadata": {},
   "outputs": [],
   "source": [
    "# class realPolarConverter:\n",
    "#     def __init__(self, )\n",
    "def Real2Polar(x):\n",
    "    return np.abs(x), np.angle(x)\n",
    "\n",
    "def Polar2Real(radii, angles):\n",
    "    return radii * np.exp(1j*angles)"
   ]
  },
  {
   "cell_type": "markdown",
   "id": "28e301c4",
   "metadata": {},
   "source": [
    "## artificial wave"
   ]
  },
  {
   "cell_type": "code",
   "execution_count": null,
   "id": "8eab97eb",
   "metadata": {},
   "outputs": [],
   "source": [
    "# test a random pulse waveform \n",
    "Duration = 1 \n",
    "Fs = 250 # Sampling Frequency \n",
    "Samples = Fs / Duration \n",
    "\n",
    "V_angle = 2 * math.pi / Samples \n",
    "angle = np.arange(-math.pi, math.pi, V_angle)"
   ]
  },
  {
   "cell_type": "code",
   "execution_count": null,
   "id": "f1349ca4",
   "metadata": {},
   "outputs": [],
   "source": [
    "# ppg pulse with low dicrotic notch valley \n",
    "a_low_notch = [1, 0.6]\n",
    "sigma_low_notch = [0.6, 1.2]\n",
    "mu_low_notch = [-math.pi / 2, math.pi /6]"
   ]
  },
  {
   "cell_type": "code",
   "execution_count": null,
   "id": "b368b58a",
   "metadata": {},
   "outputs": [],
   "source": [
    "y0 = a_low_notch[0] * np.exp(-(((angle - mu_low_notch[0]) / sigma_low_notch[0]) ** 2) / 2)\n",
    "y1 = a_low_notch[1] * np.exp(-(((angle - mu_low_notch[1]) / sigma_low_notch[0]) ** 2) / 2)"
   ]
  },
  {
   "cell_type": "code",
   "execution_count": null,
   "id": "73dbe6b2",
   "metadata": {},
   "outputs": [],
   "source": [
    "ppg_low_notch = y0 + y1 "
   ]
  },
  {
   "cell_type": "code",
   "execution_count": null,
   "id": "a3b7953b",
   "metadata": {},
   "outputs": [],
   "source": [
    "plt.plot(ppg_low_notch)\n",
    "plt.plot(y0)\n",
    "plt.plot(y1)\n",
    "plt.show()"
   ]
  },
  {
   "cell_type": "code",
   "execution_count": null,
   "id": "3803f809",
   "metadata": {},
   "outputs": [],
   "source": [
    "argrelmax(ppg_low_notch)[0]"
   ]
  },
  {
   "cell_type": "code",
   "execution_count": null,
   "id": "952c3828",
   "metadata": {},
   "outputs": [],
   "source": [
    "argrelmax(ppg_low_notch)[0]/Samples"
   ]
  },
  {
   "cell_type": "code",
   "execution_count": null,
   "id": "d9f66d9e",
   "metadata": {},
   "outputs": [],
   "source": [
    "# artificial fingertips ppg \n",
    "amplitude_low_notch = [1, 0.6]\n",
    "sigma_low_notch = [0.6, 1]\n",
    "mu_low_notch = [-3*math.pi / 5, math.pi / 6]\n",
    "\n",
    "y0 = amplitude_low_notch[0] * np.exp(-(((angle - mu_low_notch[0]) / sigma_low_notch[0]) ** 2) / 2)\n",
    "y1 = amplitude_low_notch[1] * np.exp(-(((angle - mu_low_notch[1]) / sigma_low_notch[1]) ** 2) / 2)\n",
    "\n",
    "ppg_fingertip = y0 + y1 "
   ]
  },
  {
   "cell_type": "code",
   "execution_count": null,
   "id": "0830df47",
   "metadata": {},
   "outputs": [],
   "source": [
    "plt.plot(ppg_fingertip)\n",
    "plt.title(\"artificial fingertip ppg\")\n",
    "plt.ylabel(\"amplitude\")\n",
    "# plt.plot(y0)\n",
    "# plt.plot(y1)\n",
    "plt.tight_layout()\n",
    "plt.savefig('artificial_fingertip_ppg.png', dpi=150)\n",
    "plt.show()"
   ]
  },
  {
   "cell_type": "code",
   "execution_count": null,
   "id": "3a9af1e7",
   "metadata": {},
   "outputs": [],
   "source": [
    "argrelmax(ppg_fingertip)[0]/Samples"
   ]
  },
  {
   "cell_type": "code",
   "execution_count": null,
   "id": "22cecfda",
   "metadata": {},
   "outputs": [],
   "source": [
    "# artificial wrist ppg\n",
    "amplitude_high_notch = [2, 1]\n",
    "sigma_high_notch = [0.6, 1]\n",
    "mu_high_notch = [-0.4*math.pi, 0.2*math.pi]\n",
    "\n",
    "y0 = amplitude_high_notch[0] * np.exp(-(((angle - mu_high_notch[0]) / sigma_high_notch[0]) ** 2) / 2)\n",
    "y1 = amplitude_high_notch[1] * np.exp(-(((angle - mu_high_notch[1]) / sigma_high_notch[1]) ** 2) / 2)\n",
    "\n",
    "ppg_wrist = y0 + y1 "
   ]
  },
  {
   "cell_type": "code",
   "execution_count": null,
   "id": "a6b7f43a",
   "metadata": {},
   "outputs": [],
   "source": [
    "plt.plot(ppg_wrist)\n",
    "plt.title(\"artificial wrist ppg\")\n",
    "plt.ylabel(\"amplitude\")\n",
    "# plt.plot(y0)\n",
    "# plt.plot(y1)\n",
    "plt.tight_layout()\n",
    "plt.savefig('artificial_wrist_ppg.png', dpi=150)\n",
    "plt.show()"
   ]
  },
  {
   "cell_type": "code",
   "execution_count": null,
   "id": "6f62fde9",
   "metadata": {},
   "outputs": [],
   "source": [
    "argrelmax(ppg_wrist)[0]/Samples"
   ]
  },
  {
   "cell_type": "markdown",
   "id": "adbe8db3",
   "metadata": {},
   "source": [
    "## FFT "
   ]
  },
  {
   "cell_type": "code",
   "execution_count": null,
   "id": "966d24e2",
   "metadata": {},
   "outputs": [],
   "source": [
    "# using FFT in scipy.fftpack to extract the wave frequency of raw signal \n",
    "from scipy import fftpack\n",
    "f_s=Fs\n",
    "\n",
    "X = rfft(ppg_fingertip)\n",
    "freqs = rfftfreq(len(ppg_fingertip)) * f_s\n",
    "\n",
    "fig, ax = plt.subplots()\n",
    "\n",
    "ax.stem(freqs, np.abs(X))\n",
    "ax.set_title('PPG fingertip')\n",
    "ax.set_xlabel('Frequency in Hertz [Hz]')\n",
    "ax.set_ylabel('Frequency Domain (Spectrum) Magnitude')\n",
    "ax.set_xlim(-1, 20)\n",
    "# ax.set_ylim(-5, 1e5)\n",
    "plt.tight_layout()\n",
    "plt.savefig('artificial_fingertip_fft.png', dpi=150)\n",
    "plt.show()"
   ]
  },
  {
   "cell_type": "code",
   "execution_count": null,
   "id": "7044a80e",
   "metadata": {},
   "outputs": [],
   "source": [
    "# using FFT in scipy.fftpack to extract the wave frequency of raw signal \n",
    "from scipy import fftpack\n",
    "f_s=Fs\n",
    "\n",
    "X_wrist = rfft(ppg_wrist)\n",
    "freqs_wrist = rfftfreq(len(ppg_wrist)) * f_s\n",
    "\n",
    "fig, ax = plt.subplots()\n",
    "\n",
    "ax.stem(freqs_wrist, np.abs(X_wrist))\n",
    "ax.set_title('PPG wrist')\n",
    "ax.set_xlabel('Frequency in Hertz [Hz]')\n",
    "ax.set_ylabel('Frequency Domain (Spectrum) Magnitude')\n",
    "ax.set_xlim(-1, 20)\n",
    "# ax.set_ylim(-5, 1e5)\n",
    "plt.tight_layout()\n",
    "plt.savefig('artificial_wrist_fft.png', dpi=150)\n",
    "plt.show()"
   ]
  },
  {
   "cell_type": "code",
   "execution_count": null,
   "id": "54176471",
   "metadata": {},
   "outputs": [],
   "source": [
    "X_wrist[:20] "
   ]
  },
  {
   "cell_type": "code",
   "execution_count": null,
   "id": "a8b4b433",
   "metadata": {},
   "outputs": [],
   "source": [
    "X[:20]"
   ]
  },
  {
   "cell_type": "code",
   "execution_count": null,
   "id": "86fe3df4",
   "metadata": {},
   "outputs": [],
   "source": [
    "X / X_wrist"
   ]
  },
  {
   "cell_type": "code",
   "execution_count": null,
   "id": "bcb0e2e7",
   "metadata": {},
   "outputs": [],
   "source": [
    "modulis, phases = Real2Polar(X / X_wrist)"
   ]
  },
  {
   "cell_type": "code",
   "execution_count": null,
   "id": "2768e35e",
   "metadata": {},
   "outputs": [],
   "source": [
    "modulis[:10]"
   ]
  },
  {
   "cell_type": "code",
   "execution_count": null,
   "id": "a311d867",
   "metadata": {},
   "outputs": [],
   "source": [
    "phases[:10]"
   ]
  },
  {
   "cell_type": "code",
   "execution_count": null,
   "id": "76f4108b",
   "metadata": {},
   "outputs": [],
   "source": [
    "plt.plot(freqs[:20], modulis[:20])\n",
    "plt.xlim(0, 20)\n",
    "x_major_locator=MultipleLocator(1)\n",
    "ax=plt.gca()\n",
    "ax.xaxis.set_major_locator(x_major_locator)\n",
    "plt.savefig('transfer_modulus.png', dpi=150)\n",
    "plt.show()"
   ]
  },
  {
   "cell_type": "code",
   "execution_count": null,
   "id": "72d7746b",
   "metadata": {},
   "outputs": [],
   "source": [
    "plt.plot(freqs[:20], phases[:20])\n",
    "plt.xlim(0, 20)\n",
    "x_major_locator=MultipleLocator(1)\n",
    "ax=plt.gca()\n",
    "ax.xaxis.set_major_locator(x_major_locator)\n",
    "plt.savefig('transfer_phase.png', dpi=150)\n",
    "plt.show()"
   ]
  },
  {
   "cell_type": "code",
   "execution_count": null,
   "id": "edfceac0",
   "metadata": {},
   "outputs": [],
   "source": [
    "# amplitude transfer\n",
    "\n",
    "transfer_amplitude_dict = {str(int(freqs_wrist[ind])): val for ind, val in enumerate(modulis[:11])}\n",
    "\n",
    "# phase transfer \n",
    "\n",
    "transfer_phase_dict = {str(int(freqs_wrist[ind])): val for ind, val in enumerate(phases[:11])}"
   ]
  },
  {
   "cell_type": "code",
   "execution_count": null,
   "id": "c1af153e",
   "metadata": {},
   "outputs": [],
   "source": [
    "transfer_amplitude_dict, transfer_phase_dict"
   ]
  },
  {
   "cell_type": "code",
   "execution_count": null,
   "id": "6c58c007",
   "metadata": {},
   "outputs": [],
   "source": [
    "transfer_res = []\n",
    "for i, complex_comp in enumerate(X_wrist[:11]):\n",
    "    delta_amp = transfer_amplitude_dict[str(i)]\n",
    "    delta_phase = transfer_phase_dict[str(i)]\n",
    "    \n",
    "    moduli, phase = Real2Polar(complex_comp)\n",
    "    amplified_moduli = moduli * delta_amp\n",
    "    delay_phase = phase + delta_phase\n",
    "    \n",
    "    transfer_comp = Polar2Real(amplified_moduli, delay_phase)\n",
    "    transfer_res.append(transfer_comp)"
   ]
  },
  {
   "cell_type": "code",
   "execution_count": null,
   "id": "72406490",
   "metadata": {},
   "outputs": [],
   "source": [
    "transfer_res = np.array(transfer_res)"
   ]
  },
  {
   "cell_type": "code",
   "execution_count": null,
   "id": "18efe2a0",
   "metadata": {},
   "outputs": [],
   "source": [
    "transfer_res"
   ]
  },
  {
   "cell_type": "code",
   "execution_count": null,
   "id": "dd210ef5",
   "metadata": {},
   "outputs": [],
   "source": [
    "len(X)"
   ]
  },
  {
   "cell_type": "code",
   "execution_count": null,
   "id": "22afc92d",
   "metadata": {},
   "outputs": [],
   "source": [
    "# transfer_X = np.copy(X)\n",
    "transfer_X = np.zeros(len(X), dtype=np.complex_)\n",
    "transfer_X[:11] = transfer_res\n",
    "\n",
    "# pred_ppg_fingertip = irfft(transfer_res)\n",
    "pred_ppg_fingertip = irfft(transfer_X)\n",
    "# pred_ppg_fingertip = irfft(X)\n",
    "\n",
    "fig, (ax1, ax2) = plt.subplots(2, 1, sharex=True)\n",
    "ax1.plot(ppg_fingertip, label='ppg')\n",
    "ax1.set_title('fingertip ppg signal')\n",
    "\n",
    "ax2.plot(pred_ppg_fingertip, label='transfer waveform')\n",
    "ax2.set_title('fingertip ppg from transfer function')\n",
    "# ax2.legend()\n",
    "plt.savefig('fingertip_vs_predictedfingertip.png', dpi=150)\n",
    "plt.show()"
   ]
  },
  {
   "cell_type": "code",
   "execution_count": null,
   "id": "8b7fc808",
   "metadata": {},
   "outputs": [],
   "source": [
    "X[:20]"
   ]
  },
  {
   "cell_type": "code",
   "execution_count": null,
   "id": "47daed9e",
   "metadata": {},
   "outputs": [],
   "source": [
    "transfer_X[:20]"
   ]
  },
  {
   "cell_type": "code",
   "execution_count": null,
   "id": "cbeba3e1",
   "metadata": {},
   "outputs": [],
   "source": [
    "len(pred_ppg_fingertip), len(ppg_fingertip)"
   ]
  },
  {
   "cell_type": "code",
   "execution_count": null,
   "id": "83010709",
   "metadata": {},
   "outputs": [],
   "source": [
    "argrelmax(pred_ppg_fingertip)[0]/Samples, argrelmax(ppg_fingertip)[0]/Samples"
   ]
  },
  {
   "cell_type": "code",
   "execution_count": null,
   "id": "6503e41d",
   "metadata": {},
   "outputs": [],
   "source": []
  }
 ],
 "metadata": {
  "kernelspec": {
   "display_name": "HHAPP_features",
   "language": "python",
   "name": "hhapp_features"
  },
  "language_info": {
   "codemirror_mode": {
    "name": "ipython",
    "version": 3
   },
   "file_extension": ".py",
   "mimetype": "text/x-python",
   "name": "python",
   "nbconvert_exporter": "python",
   "pygments_lexer": "ipython3",
   "version": "3.6.9"
  }
 },
 "nbformat": 4,
 "nbformat_minor": 5
}
